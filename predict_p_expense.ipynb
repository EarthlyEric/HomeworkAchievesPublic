{
 "cells": [
  {
   "cell_type": "code",
   "execution_count": 6,
   "metadata": {},
   "outputs": [
    {
     "name": "stdout",
     "output_type": "stream",
     "text": [
      "Predicted P expense: 164.11488083082938\n"
     ]
    }
   ],
   "source": [
    "# type: ignore\n",
    "import pandas \n",
    "from sklearn.linear_model import LinearRegression\n",
    "from sklearn.metrics import r2_score\n",
    "\n",
    "dataset = pandas.read_csv('production_data.csv')\n",
    "P_quantity = dataset.iloc[:, 1].values.reshape(-1, 1)\n",
    "P_expense = dataset.iloc[:, 2].values.reshape(-1, 1)\n",
    "\n",
    "model = LinearRegression()\n",
    "model.fit(P_quantity, P_expense)\n",
    "P_quantity_input = [[95]]\n",
    "predicted_P_expense = model.predict(P_quantity_input)\n",
    "\n",
    "print(\"Predicted P expense:\",predicted_P_expense[0][0])\n",
    "\n",
    "\n"
   ]
  }
 ],
 "metadata": {
  "kernelspec": {
   "display_name": "Python 3 (ipykernel)",
   "language": "python",
   "name": "python3"
  },
  "language_info": {
   "codemirror_mode": {
    "name": "ipython",
    "version": 3
   },
   "file_extension": ".py",
   "mimetype": "text/x-python",
   "name": "python",
   "nbconvert_exporter": "python",
   "pygments_lexer": "ipython3",
   "version": "3.11.10"
  }
 },
 "nbformat": 4,
 "nbformat_minor": 2
}
